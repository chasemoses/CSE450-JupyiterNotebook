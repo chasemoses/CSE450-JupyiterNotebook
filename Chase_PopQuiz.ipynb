{
  "nbformat": 4,
  "nbformat_minor": 0,
  "metadata": {
    "colab": {
      "provenance": [],
      "collapsed_sections": [],
      "authorship_tag": "ABX9TyOPxg0kfHa8JzkI50nE3V78",
      "include_colab_link": true
    },
    "kernelspec": {
      "name": "python3",
      "display_name": "Python 3"
    },
    "language_info": {
      "name": "python"
    }
  },
  "cells": [
    {
      "cell_type": "markdown",
      "metadata": {
        "id": "view-in-github",
        "colab_type": "text"
      },
      "source": [
        "<a href=\"https://colab.research.google.com/github/chasemoses/CSE450-JupyiterNotebook/blob/main/Chase_PopQuiz.ipynb\" target=\"_parent\"><img src=\"https://colab.research.google.com/assets/colab-badge.svg\" alt=\"Open In Colab\"/></a>"
      ]
    },
    {
      "cell_type": "code",
      "execution_count": 6,
      "metadata": {
        "colab": {
          "base_uri": "https://localhost:8080/",
          "height": 1000
        },
        "id": "cYi2PI--5oEZ",
        "outputId": "0acc1098-8c18-49e7-8150-c34faa2cd825"
      },
      "outputs": [
        {
          "output_type": "execute_result",
          "data": {
            "text/plain": [
              "      Area  MajorAxisLength  MinorAxisLength  Eccentricity  ConvexArea  \\\n",
              "0    97026       455.971591       273.053810      0.800869       99561   \n",
              "1    65253       418.997887       205.756185      0.871122       69700   \n",
              "2   113029       558.516156       265.284203      0.879996      116783   \n",
              "3    76792       338.857545       291.359202      0.510584       78842   \n",
              "4    72219       376.650492       249.529454      0.749065       74373   \n",
              "5    47253       360.019176       172.508389      0.877725       51538   \n",
              "6   105192       440.562909       305.791779      0.719885      107313   \n",
              "7   110616       461.144553       306.899065      0.746384      112150   \n",
              "8    53633       313.479956       218.668617      0.716534       55147   \n",
              "9    70196       373.197647       243.881105      0.756935       71937   \n",
              "10   88338       504.482197       227.127509      0.892918       90790   \n",
              "11   53964       368.074061       189.813869      0.856772       55662   \n",
              "12   80481       481.063953       217.561151      0.891891       85153   \n",
              "13  103666       456.382705       293.922435      0.765003      107992   \n",
              "14   72924       434.222666       220.491764      0.861484       77356   \n",
              "15   57766       344.737416       215.109784      0.781439       59834   \n",
              "16  105091       507.685116       268.087343      0.849208      108296   \n",
              "17  142419       580.438197       318.180558      0.836365      145899   \n",
              "18   57741       316.484029       234.283629      0.672310       58976   \n",
              "19  115859       488.488856       305.090778      0.780977      120546   \n",
              "20   93234       452.926506       268.763054      0.804913       97428   \n",
              "21   74849       379.925026       252.617118      0.746921       76154   \n",
              "22   40861       249.740227       213.573272      0.518328       43096   \n",
              "23   74426       411.696820       231.749598      0.826516       76449   \n",
              "24   77225       362.137346       277.009843      0.644113       80872   \n",
              "25   68129       381.175490       230.056020      0.797330       70141   \n",
              "26   88290       514.436154       221.444838      0.902609       92317   \n",
              "27   80274       404.302495       256.062476      0.773871       84523   \n",
              "28   49414       290.458237       219.418243      0.655240       51029   \n",
              "29  100649       433.366870       300.457780      0.720639      103883   \n",
              "\n",
              "      Extent  Perimeter    Class  \n",
              "0   0.671205   1212.667  Kecimen  \n",
              "1   0.666255   1075.404    Besni  \n",
              "2   0.662092   1419.577    Besni  \n",
              "3   0.772322   1042.770  Kecimen  \n",
              "4   0.777795   1050.221  Kecimen  \n",
              "5   0.711320    940.542    Besni  \n",
              "6   0.736902   1244.054    Besni  \n",
              "7   0.752398   1252.875  Kecimen  \n",
              "8   0.728432    882.669  Kecimen  \n",
              "9   0.690790   1024.256  Kecimen  \n",
              "10  0.727157   1230.493    Besni  \n",
              "11  0.603678    943.599  Kecimen  \n",
              "12  0.714974   1219.105    Besni  \n",
              "13  0.647265   1332.203    Besni  \n",
              "14  0.621603   1183.236    Besni  \n",
              "15  0.737583    950.721  Kecimen  \n",
              "16  0.700271   1295.591    Besni  \n",
              "17  0.754858   1512.658    Besni  \n",
              "18  0.712711    906.829  Kecimen  \n",
              "19  0.742643   1351.422    Besni  \n",
              "20  0.715907   1222.886    Besni  \n",
              "21  0.735393   1040.788  Kecimen  \n",
              "22  0.743089    784.912  Kecimen  \n",
              "23  0.679454   1071.612  Kecimen  \n",
              "24  0.732483   1110.440  Kecimen  \n",
              "25  0.659704   1050.867  Kecimen  \n",
              "26  0.555157   1277.388    Besni  \n",
              "27  0.663542   1153.618    Besni  \n",
              "28  0.711034    869.188  Kecimen  \n",
              "29  0.724719   1257.029    Besni  "
            ],
            "text/html": [
              "\n",
              "  <div id=\"df-56e3ffb9-a5d3-43d9-9569-fe2ba9b1792c\">\n",
              "    <div class=\"colab-df-container\">\n",
              "      <div>\n",
              "<style scoped>\n",
              "    .dataframe tbody tr th:only-of-type {\n",
              "        vertical-align: middle;\n",
              "    }\n",
              "\n",
              "    .dataframe tbody tr th {\n",
              "        vertical-align: top;\n",
              "    }\n",
              "\n",
              "    .dataframe thead th {\n",
              "        text-align: right;\n",
              "    }\n",
              "</style>\n",
              "<table border=\"1\" class=\"dataframe\">\n",
              "  <thead>\n",
              "    <tr style=\"text-align: right;\">\n",
              "      <th></th>\n",
              "      <th>Area</th>\n",
              "      <th>MajorAxisLength</th>\n",
              "      <th>MinorAxisLength</th>\n",
              "      <th>Eccentricity</th>\n",
              "      <th>ConvexArea</th>\n",
              "      <th>Extent</th>\n",
              "      <th>Perimeter</th>\n",
              "      <th>Class</th>\n",
              "    </tr>\n",
              "  </thead>\n",
              "  <tbody>\n",
              "    <tr>\n",
              "      <th>0</th>\n",
              "      <td>97026</td>\n",
              "      <td>455.971591</td>\n",
              "      <td>273.053810</td>\n",
              "      <td>0.800869</td>\n",
              "      <td>99561</td>\n",
              "      <td>0.671205</td>\n",
              "      <td>1212.667</td>\n",
              "      <td>Kecimen</td>\n",
              "    </tr>\n",
              "    <tr>\n",
              "      <th>1</th>\n",
              "      <td>65253</td>\n",
              "      <td>418.997887</td>\n",
              "      <td>205.756185</td>\n",
              "      <td>0.871122</td>\n",
              "      <td>69700</td>\n",
              "      <td>0.666255</td>\n",
              "      <td>1075.404</td>\n",
              "      <td>Besni</td>\n",
              "    </tr>\n",
              "    <tr>\n",
              "      <th>2</th>\n",
              "      <td>113029</td>\n",
              "      <td>558.516156</td>\n",
              "      <td>265.284203</td>\n",
              "      <td>0.879996</td>\n",
              "      <td>116783</td>\n",
              "      <td>0.662092</td>\n",
              "      <td>1419.577</td>\n",
              "      <td>Besni</td>\n",
              "    </tr>\n",
              "    <tr>\n",
              "      <th>3</th>\n",
              "      <td>76792</td>\n",
              "      <td>338.857545</td>\n",
              "      <td>291.359202</td>\n",
              "      <td>0.510584</td>\n",
              "      <td>78842</td>\n",
              "      <td>0.772322</td>\n",
              "      <td>1042.770</td>\n",
              "      <td>Kecimen</td>\n",
              "    </tr>\n",
              "    <tr>\n",
              "      <th>4</th>\n",
              "      <td>72219</td>\n",
              "      <td>376.650492</td>\n",
              "      <td>249.529454</td>\n",
              "      <td>0.749065</td>\n",
              "      <td>74373</td>\n",
              "      <td>0.777795</td>\n",
              "      <td>1050.221</td>\n",
              "      <td>Kecimen</td>\n",
              "    </tr>\n",
              "    <tr>\n",
              "      <th>5</th>\n",
              "      <td>47253</td>\n",
              "      <td>360.019176</td>\n",
              "      <td>172.508389</td>\n",
              "      <td>0.877725</td>\n",
              "      <td>51538</td>\n",
              "      <td>0.711320</td>\n",
              "      <td>940.542</td>\n",
              "      <td>Besni</td>\n",
              "    </tr>\n",
              "    <tr>\n",
              "      <th>6</th>\n",
              "      <td>105192</td>\n",
              "      <td>440.562909</td>\n",
              "      <td>305.791779</td>\n",
              "      <td>0.719885</td>\n",
              "      <td>107313</td>\n",
              "      <td>0.736902</td>\n",
              "      <td>1244.054</td>\n",
              "      <td>Besni</td>\n",
              "    </tr>\n",
              "    <tr>\n",
              "      <th>7</th>\n",
              "      <td>110616</td>\n",
              "      <td>461.144553</td>\n",
              "      <td>306.899065</td>\n",
              "      <td>0.746384</td>\n",
              "      <td>112150</td>\n",
              "      <td>0.752398</td>\n",
              "      <td>1252.875</td>\n",
              "      <td>Kecimen</td>\n",
              "    </tr>\n",
              "    <tr>\n",
              "      <th>8</th>\n",
              "      <td>53633</td>\n",
              "      <td>313.479956</td>\n",
              "      <td>218.668617</td>\n",
              "      <td>0.716534</td>\n",
              "      <td>55147</td>\n",
              "      <td>0.728432</td>\n",
              "      <td>882.669</td>\n",
              "      <td>Kecimen</td>\n",
              "    </tr>\n",
              "    <tr>\n",
              "      <th>9</th>\n",
              "      <td>70196</td>\n",
              "      <td>373.197647</td>\n",
              "      <td>243.881105</td>\n",
              "      <td>0.756935</td>\n",
              "      <td>71937</td>\n",
              "      <td>0.690790</td>\n",
              "      <td>1024.256</td>\n",
              "      <td>Kecimen</td>\n",
              "    </tr>\n",
              "    <tr>\n",
              "      <th>10</th>\n",
              "      <td>88338</td>\n",
              "      <td>504.482197</td>\n",
              "      <td>227.127509</td>\n",
              "      <td>0.892918</td>\n",
              "      <td>90790</td>\n",
              "      <td>0.727157</td>\n",
              "      <td>1230.493</td>\n",
              "      <td>Besni</td>\n",
              "    </tr>\n",
              "    <tr>\n",
              "      <th>11</th>\n",
              "      <td>53964</td>\n",
              "      <td>368.074061</td>\n",
              "      <td>189.813869</td>\n",
              "      <td>0.856772</td>\n",
              "      <td>55662</td>\n",
              "      <td>0.603678</td>\n",
              "      <td>943.599</td>\n",
              "      <td>Kecimen</td>\n",
              "    </tr>\n",
              "    <tr>\n",
              "      <th>12</th>\n",
              "      <td>80481</td>\n",
              "      <td>481.063953</td>\n",
              "      <td>217.561151</td>\n",
              "      <td>0.891891</td>\n",
              "      <td>85153</td>\n",
              "      <td>0.714974</td>\n",
              "      <td>1219.105</td>\n",
              "      <td>Besni</td>\n",
              "    </tr>\n",
              "    <tr>\n",
              "      <th>13</th>\n",
              "      <td>103666</td>\n",
              "      <td>456.382705</td>\n",
              "      <td>293.922435</td>\n",
              "      <td>0.765003</td>\n",
              "      <td>107992</td>\n",
              "      <td>0.647265</td>\n",
              "      <td>1332.203</td>\n",
              "      <td>Besni</td>\n",
              "    </tr>\n",
              "    <tr>\n",
              "      <th>14</th>\n",
              "      <td>72924</td>\n",
              "      <td>434.222666</td>\n",
              "      <td>220.491764</td>\n",
              "      <td>0.861484</td>\n",
              "      <td>77356</td>\n",
              "      <td>0.621603</td>\n",
              "      <td>1183.236</td>\n",
              "      <td>Besni</td>\n",
              "    </tr>\n",
              "    <tr>\n",
              "      <th>15</th>\n",
              "      <td>57766</td>\n",
              "      <td>344.737416</td>\n",
              "      <td>215.109784</td>\n",
              "      <td>0.781439</td>\n",
              "      <td>59834</td>\n",
              "      <td>0.737583</td>\n",
              "      <td>950.721</td>\n",
              "      <td>Kecimen</td>\n",
              "    </tr>\n",
              "    <tr>\n",
              "      <th>16</th>\n",
              "      <td>105091</td>\n",
              "      <td>507.685116</td>\n",
              "      <td>268.087343</td>\n",
              "      <td>0.849208</td>\n",
              "      <td>108296</td>\n",
              "      <td>0.700271</td>\n",
              "      <td>1295.591</td>\n",
              "      <td>Besni</td>\n",
              "    </tr>\n",
              "    <tr>\n",
              "      <th>17</th>\n",
              "      <td>142419</td>\n",
              "      <td>580.438197</td>\n",
              "      <td>318.180558</td>\n",
              "      <td>0.836365</td>\n",
              "      <td>145899</td>\n",
              "      <td>0.754858</td>\n",
              "      <td>1512.658</td>\n",
              "      <td>Besni</td>\n",
              "    </tr>\n",
              "    <tr>\n",
              "      <th>18</th>\n",
              "      <td>57741</td>\n",
              "      <td>316.484029</td>\n",
              "      <td>234.283629</td>\n",
              "      <td>0.672310</td>\n",
              "      <td>58976</td>\n",
              "      <td>0.712711</td>\n",
              "      <td>906.829</td>\n",
              "      <td>Kecimen</td>\n",
              "    </tr>\n",
              "    <tr>\n",
              "      <th>19</th>\n",
              "      <td>115859</td>\n",
              "      <td>488.488856</td>\n",
              "      <td>305.090778</td>\n",
              "      <td>0.780977</td>\n",
              "      <td>120546</td>\n",
              "      <td>0.742643</td>\n",
              "      <td>1351.422</td>\n",
              "      <td>Besni</td>\n",
              "    </tr>\n",
              "    <tr>\n",
              "      <th>20</th>\n",
              "      <td>93234</td>\n",
              "      <td>452.926506</td>\n",
              "      <td>268.763054</td>\n",
              "      <td>0.804913</td>\n",
              "      <td>97428</td>\n",
              "      <td>0.715907</td>\n",
              "      <td>1222.886</td>\n",
              "      <td>Besni</td>\n",
              "    </tr>\n",
              "    <tr>\n",
              "      <th>21</th>\n",
              "      <td>74849</td>\n",
              "      <td>379.925026</td>\n",
              "      <td>252.617118</td>\n",
              "      <td>0.746921</td>\n",
              "      <td>76154</td>\n",
              "      <td>0.735393</td>\n",
              "      <td>1040.788</td>\n",
              "      <td>Kecimen</td>\n",
              "    </tr>\n",
              "    <tr>\n",
              "      <th>22</th>\n",
              "      <td>40861</td>\n",
              "      <td>249.740227</td>\n",
              "      <td>213.573272</td>\n",
              "      <td>0.518328</td>\n",
              "      <td>43096</td>\n",
              "      <td>0.743089</td>\n",
              "      <td>784.912</td>\n",
              "      <td>Kecimen</td>\n",
              "    </tr>\n",
              "    <tr>\n",
              "      <th>23</th>\n",
              "      <td>74426</td>\n",
              "      <td>411.696820</td>\n",
              "      <td>231.749598</td>\n",
              "      <td>0.826516</td>\n",
              "      <td>76449</td>\n",
              "      <td>0.679454</td>\n",
              "      <td>1071.612</td>\n",
              "      <td>Kecimen</td>\n",
              "    </tr>\n",
              "    <tr>\n",
              "      <th>24</th>\n",
              "      <td>77225</td>\n",
              "      <td>362.137346</td>\n",
              "      <td>277.009843</td>\n",
              "      <td>0.644113</td>\n",
              "      <td>80872</td>\n",
              "      <td>0.732483</td>\n",
              "      <td>1110.440</td>\n",
              "      <td>Kecimen</td>\n",
              "    </tr>\n",
              "    <tr>\n",
              "      <th>25</th>\n",
              "      <td>68129</td>\n",
              "      <td>381.175490</td>\n",
              "      <td>230.056020</td>\n",
              "      <td>0.797330</td>\n",
              "      <td>70141</td>\n",
              "      <td>0.659704</td>\n",
              "      <td>1050.867</td>\n",
              "      <td>Kecimen</td>\n",
              "    </tr>\n",
              "    <tr>\n",
              "      <th>26</th>\n",
              "      <td>88290</td>\n",
              "      <td>514.436154</td>\n",
              "      <td>221.444838</td>\n",
              "      <td>0.902609</td>\n",
              "      <td>92317</td>\n",
              "      <td>0.555157</td>\n",
              "      <td>1277.388</td>\n",
              "      <td>Besni</td>\n",
              "    </tr>\n",
              "    <tr>\n",
              "      <th>27</th>\n",
              "      <td>80274</td>\n",
              "      <td>404.302495</td>\n",
              "      <td>256.062476</td>\n",
              "      <td>0.773871</td>\n",
              "      <td>84523</td>\n",
              "      <td>0.663542</td>\n",
              "      <td>1153.618</td>\n",
              "      <td>Besni</td>\n",
              "    </tr>\n",
              "    <tr>\n",
              "      <th>28</th>\n",
              "      <td>49414</td>\n",
              "      <td>290.458237</td>\n",
              "      <td>219.418243</td>\n",
              "      <td>0.655240</td>\n",
              "      <td>51029</td>\n",
              "      <td>0.711034</td>\n",
              "      <td>869.188</td>\n",
              "      <td>Kecimen</td>\n",
              "    </tr>\n",
              "    <tr>\n",
              "      <th>29</th>\n",
              "      <td>100649</td>\n",
              "      <td>433.366870</td>\n",
              "      <td>300.457780</td>\n",
              "      <td>0.720639</td>\n",
              "      <td>103883</td>\n",
              "      <td>0.724719</td>\n",
              "      <td>1257.029</td>\n",
              "      <td>Besni</td>\n",
              "    </tr>\n",
              "  </tbody>\n",
              "</table>\n",
              "</div>\n",
              "      <button class=\"colab-df-convert\" onclick=\"convertToInteractive('df-56e3ffb9-a5d3-43d9-9569-fe2ba9b1792c')\"\n",
              "              title=\"Convert this dataframe to an interactive table.\"\n",
              "              style=\"display:none;\">\n",
              "        \n",
              "  <svg xmlns=\"http://www.w3.org/2000/svg\" height=\"24px\"viewBox=\"0 0 24 24\"\n",
              "       width=\"24px\">\n",
              "    <path d=\"M0 0h24v24H0V0z\" fill=\"none\"/>\n",
              "    <path d=\"M18.56 5.44l.94 2.06.94-2.06 2.06-.94-2.06-.94-.94-2.06-.94 2.06-2.06.94zm-11 1L8.5 8.5l.94-2.06 2.06-.94-2.06-.94L8.5 2.5l-.94 2.06-2.06.94zm10 10l.94 2.06.94-2.06 2.06-.94-2.06-.94-.94-2.06-.94 2.06-2.06.94z\"/><path d=\"M17.41 7.96l-1.37-1.37c-.4-.4-.92-.59-1.43-.59-.52 0-1.04.2-1.43.59L10.3 9.45l-7.72 7.72c-.78.78-.78 2.05 0 2.83L4 21.41c.39.39.9.59 1.41.59.51 0 1.02-.2 1.41-.59l7.78-7.78 2.81-2.81c.8-.78.8-2.07 0-2.86zM5.41 20L4 18.59l7.72-7.72 1.47 1.35L5.41 20z\"/>\n",
              "  </svg>\n",
              "      </button>\n",
              "      \n",
              "  <style>\n",
              "    .colab-df-container {\n",
              "      display:flex;\n",
              "      flex-wrap:wrap;\n",
              "      gap: 12px;\n",
              "    }\n",
              "\n",
              "    .colab-df-convert {\n",
              "      background-color: #E8F0FE;\n",
              "      border: none;\n",
              "      border-radius: 50%;\n",
              "      cursor: pointer;\n",
              "      display: none;\n",
              "      fill: #1967D2;\n",
              "      height: 32px;\n",
              "      padding: 0 0 0 0;\n",
              "      width: 32px;\n",
              "    }\n",
              "\n",
              "    .colab-df-convert:hover {\n",
              "      background-color: #E2EBFA;\n",
              "      box-shadow: 0px 1px 2px rgba(60, 64, 67, 0.3), 0px 1px 3px 1px rgba(60, 64, 67, 0.15);\n",
              "      fill: #174EA6;\n",
              "    }\n",
              "\n",
              "    [theme=dark] .colab-df-convert {\n",
              "      background-color: #3B4455;\n",
              "      fill: #D2E3FC;\n",
              "    }\n",
              "\n",
              "    [theme=dark] .colab-df-convert:hover {\n",
              "      background-color: #434B5C;\n",
              "      box-shadow: 0px 1px 3px 1px rgba(0, 0, 0, 0.15);\n",
              "      filter: drop-shadow(0px 1px 2px rgba(0, 0, 0, 0.3));\n",
              "      fill: #FFFFFF;\n",
              "    }\n",
              "  </style>\n",
              "\n",
              "      <script>\n",
              "        const buttonEl =\n",
              "          document.querySelector('#df-56e3ffb9-a5d3-43d9-9569-fe2ba9b1792c button.colab-df-convert');\n",
              "        buttonEl.style.display =\n",
              "          google.colab.kernel.accessAllowed ? 'block' : 'none';\n",
              "\n",
              "        async function convertToInteractive(key) {\n",
              "          const element = document.querySelector('#df-56e3ffb9-a5d3-43d9-9569-fe2ba9b1792c');\n",
              "          const dataTable =\n",
              "            await google.colab.kernel.invokeFunction('convertToInteractive',\n",
              "                                                     [key], {});\n",
              "          if (!dataTable) return;\n",
              "\n",
              "          const docLinkHtml = 'Like what you see? Visit the ' +\n",
              "            '<a target=\"_blank\" href=https://colab.research.google.com/notebooks/data_table.ipynb>data table notebook</a>'\n",
              "            + ' to learn more about interactive tables.';\n",
              "          element.innerHTML = '';\n",
              "          dataTable['output_type'] = 'display_data';\n",
              "          await google.colab.output.renderOutput(dataTable, element);\n",
              "          const docLink = document.createElement('div');\n",
              "          docLink.innerHTML = docLinkHtml;\n",
              "          element.appendChild(docLink);\n",
              "        }\n",
              "      </script>\n",
              "    </div>\n",
              "  </div>\n",
              "  "
            ]
          },
          "metadata": {},
          "execution_count": 6
        }
      ],
      "source": [
        "import pandas as pd\n",
        "import seaborn as sns\n",
        "\n",
        "rasins = pd.read_csv(\"raisin-training.csv\")\n",
        "\n",
        "rasins.head(30)"
      ]
    },
    {
      "cell_type": "code",
      "source": [
        "# Any null values?\n",
        "rasins.isnull().values.any()"
      ],
      "metadata": {
        "colab": {
          "base_uri": "https://localhost:8080/"
        },
        "id": "ZSiMeapZ8Cpr",
        "outputId": "b4512545-7f92-43f5-9a27-f12c897447f2"
      },
      "execution_count": 12,
      "outputs": [
        {
          "output_type": "execute_result",
          "data": {
            "text/plain": [
              "False"
            ]
          },
          "metadata": {},
          "execution_count": 12
        }
      ]
    },
    {
      "cell_type": "code",
      "source": [
        "# How many total are we working with? Might help determine splits.\n",
        "rasins['Class'].count()"
      ],
      "metadata": {
        "colab": {
          "base_uri": "https://localhost:8080/"
        },
        "id": "3ca9cIy69_iY",
        "outputId": "a8bb06a4-b669-4653-be58-922968e99306"
      },
      "execution_count": 25,
      "outputs": [
        {
          "output_type": "execute_result",
          "data": {
            "text/plain": [
              "698"
            ]
          },
          "metadata": {},
          "execution_count": 25
        }
      ]
    },
    {
      "cell_type": "code",
      "source": [
        "rasins['Area'].groupby(rasins['Class']).value_counts()"
      ],
      "metadata": {
        "colab": {
          "base_uri": "https://localhost:8080/"
        },
        "id": "8FtiMAH06GrZ",
        "outputId": "30a25b7d-d372-45ee-8453-0dcafca7ac94"
      },
      "execution_count": 22,
      "outputs": [
        {
          "output_type": "execute_result",
          "data": {
            "text/plain": [
              "Class    Area  \n",
              "Besni    40702     1\n",
              "         45051     1\n",
              "         47253     1\n",
              "         48007     1\n",
              "         48488     1\n",
              "                  ..\n",
              "Kecimen  110616    1\n",
              "         111450    1\n",
              "         114648    1\n",
              "         136340    1\n",
              "         180898    1\n",
              "Name: Area, Length: 698, dtype: int64"
            ]
          },
          "metadata": {},
          "execution_count": 22
        }
      ]
    },
    {
      "cell_type": "code",
      "source": [
        "# How many of each are we working with? Is it imbalanced?\n",
        "sns.countplot(data=rasins, x='Class')"
      ],
      "metadata": {
        "colab": {
          "base_uri": "https://localhost:8080/",
          "height": 296
        },
        "id": "E03npuwB-Phj",
        "outputId": "2d0cb8b1-fe8a-49c2-f5cc-76b269a4b8da"
      },
      "execution_count": 26,
      "outputs": [
        {
          "output_type": "execute_result",
          "data": {
            "text/plain": [
              "<matplotlib.axes._subplots.AxesSubplot at 0x7f2fc2025bd0>"
            ]
          },
          "metadata": {},
          "execution_count": 26
        },
        {
          "output_type": "display_data",
          "data": {
            "text/plain": [
              "<Figure size 432x288 with 1 Axes>"
            ],
            "image/png": "[encoded data removed]"
          },
          "metadata": {
            "needs_background": "light"
          }
        }
      ]
    },
    {
      "cell_type": "code",
      "source": [
        "# Trying to figure out relationships between class and the different features\n",
        "\n",
        "\n",
        "sns.relplot(data=rasins, x='Class', y='Area')"
      ],
      "metadata": {
        "colab": {
          "base_uri": "https://localhost:8080/",
          "height": 386
        },
        "id": "QCzya8ka7ors",
        "outputId": "38999636-fc24-4e9e-9fef-9fe35402f6ef"
      },
      "execution_count": 10,
      "outputs": [
        {
          "output_type": "execute_result",
          "data": {
            "text/plain": [
              "<seaborn.axisgrid.FacetGrid at 0x7f2fc516dd50>"
            ]
          },
          "metadata": {},
          "execution_count": 10
        },
        {
          "output_type": "display_data",
          "data": {
            "text/plain": [
              "<Figure size 360x360 with 1 Axes>"
            ],
            "image/png": "[encoded data removed]"
          },
          "metadata": {
            "needs_background": "light"
          }
        }
      ]
    },
    {
      "cell_type": "code",
      "source": [
        "sns.relplot(data=rasins, x='Class', y='Perimeter')"
      ],
      "metadata": {
        "colab": {
          "base_uri": "https://localhost:8080/",
          "height": 386
        },
        "id": "6LIz-Yrs75j4",
        "outputId": "86922964-6707-4c12-902a-20c98a35811e"
      },
      "execution_count": 11,
      "outputs": [
        {
          "output_type": "execute_result",
          "data": {
            "text/plain": [
              "<seaborn.axisgrid.FacetGrid at 0x7f2fc5126150>"
            ]
          },
          "metadata": {},
          "execution_count": 11
        },
        {
          "output_type": "display_data",
          "data": {
            "text/plain": [
              "<Figure size 360x360 with 1 Axes>"
            ],
            "image/png": "[encoded data removed]"
          },
          "metadata": {
            "needs_background": "light"
          }
        }
      ]
    },
    {
      "cell_type": "code",
      "source": [
        "sns.relplot(data=rasins, x='Class', y='MajorAxisLength')"
      ],
      "metadata": {
        "colab": {
          "base_uri": "https://localhost:8080/",
          "height": 386
        },
        "id": "CSHO-lpF8MR3",
        "outputId": "c1d04ccd-7302-4f96-b6c9-ac715948a79e"
      },
      "execution_count": 13,
      "outputs": [
        {
          "output_type": "execute_result",
          "data": {
            "text/plain": [
              "<seaborn.axisgrid.FacetGrid at 0x7f2fc23ab6d0>"
            ]
          },
          "metadata": {},
          "execution_count": 13
        },
        {
          "output_type": "display_data",
          "data": {
            "text/plain": [
              "<Figure size 360x360 with 1 Axes>"
            ],
            "image/png": "[encoded data removed]"
          },
          "metadata": {
            "needs_background": "light"
          }
        }
      ]
    },
    {
      "cell_type": "code",
      "source": [
        "sns.relplot(data=rasins, x='Class', y='MinorAxisLength')"
      ],
      "metadata": {
        "colab": {
          "base_uri": "https://localhost:8080/",
          "height": 386
        },
        "id": "Rvuxvwd18Q7N",
        "outputId": "555b2cd6-f379-4c6c-a4f5-c80520c258f8"
      },
      "execution_count": 14,
      "outputs": [
        {
          "output_type": "execute_result",
          "data": {
            "text/plain": [
              "<seaborn.axisgrid.FacetGrid at 0x7f2fc2365950>"
            ]
          },
          "metadata": {},
          "execution_count": 14
        },
        {
          "output_type": "display_data",
          "data": {
            "text/plain": [
              "<Figure size 360x360 with 1 Axes>"
            ],
            "image/png": "[encoded data removed]"
          },
          "metadata": {
            "needs_background": "light"
          }
        }
      ]
    },
    {
      "cell_type": "code",
      "source": [
        "sns.scatterplot(data=rasins, x='MajorAxisLength', y='MinorAxisLength')"
      ],
      "metadata": {
        "colab": {
          "base_uri": "https://localhost:8080/",
          "height": 296
        },
        "id": "nvWFrhCCBh9H",
        "outputId": "bc79d811-9650-4a91-ff74-b221ff75e279"
      },
      "execution_count": 65,
      "outputs": [
        {
          "output_type": "execute_result",
          "data": {
            "text/plain": [
              "<matplotlib.axes._subplots.AxesSubplot at 0x7f2fc10c8ed0>"
            ]
          },
          "metadata": {},
          "execution_count": 65
        },
        {
          "output_type": "display_data",
          "data": {
            "text/plain": [
              "<Figure size 432x288 with 1 Axes>"
            ],
            "image/png": "[encoded data removed]"
          },
          "metadata": {
            "needs_background": "light"
          }
        }
      ]
    },
    {
      "cell_type": "code",
      "source": [],
      "metadata": {
        "id": "2b9I8cuNIN5A"
      },
      "execution_count": null,
      "outputs": []
    },
    {
      "cell_type": "code",
      "source": [
        "features = [\"Area\", \"Perimeter\", \"MajorAxisLength\", \"MinorAxisLength\", 'Eccentricity', 'ConvexArea', 'Extent']\n",
        "X = rasins[features]\n",
        "\n",
        "y = rasins['Class']"
      ],
      "metadata": {
        "id": "HqvEUI0Y9EpI"
      },
      "execution_count": 98,
      "outputs": []
    },
    {
      "cell_type": "code",
      "source": [
        "import numpy as np\n",
        "from sklearn.model_selection import train_test_split\n",
        "\n",
        "X_train, X_test, y_train, y_test = train_test_split(\n",
        "    X, y, test_size=0.10, random_state=42\n",
        ")"
      ],
      "metadata": {
        "id": "PEjKnZFn__99"
      },
      "execution_count": 99,
      "outputs": []
    },
    {
      "cell_type": "code",
      "source": [
        "# Not all the data are in the same ranges. Look to Normalize that.\n",
        "from sklearn.preprocessing import MinMaxScaler\n",
        "norm = MinMaxScaler().fit(X_train)\n",
        "\n",
        "X_train = norm.transform(X_train)\n",
        "\n",
        "X_test = norm.transform(X_test)"
      ],
      "metadata": {
        "id": "RN77vUyyCG-x"
      },
      "execution_count": 100,
      "outputs": []
    },
    {
      "cell_type": "code",
      "source": [
        "# Use K Nearest Neighbor\n",
        "from sklearn.neighbors import KNeighborsClassifier\n",
        "\n",
        "model = KNeighborsClassifier(n_neighbors=5)"
      ],
      "metadata": {
        "id": "us0sIpYmAL17"
      },
      "execution_count": 101,
      "outputs": []
    },
    {
      "cell_type": "code",
      "source": [
        "\n",
        "model.fit(X_train, y_train)"
      ],
      "metadata": {
        "colab": {
          "base_uri": "https://localhost:8080/"
        },
        "id": "D0CrnUBkASvF",
        "outputId": "c1179ea8-0cb5-49c9-d259-03a0f7ecccdb"
      },
      "execution_count": 102,
      "outputs": [
        {
          "output_type": "execute_result",
          "data": {
            "text/plain": [
              "KNeighborsClassifier()"
            ]
          },
          "metadata": {},
          "execution_count": 102
        }
      ]
    },
    {
      "cell_type": "code",
      "source": [
        "y_prediction = model.predict(X_test)\n",
        "\n",
        "y_prediction"
      ],
      "metadata": {
        "colab": {
          "base_uri": "https://localhost:8080/"
        },
        "id": "yOmtnyoOAYu7",
        "outputId": "9f3c1c1c-14a8-40aa-cbdc-4dff1756e083"
      },
      "execution_count": 103,
      "outputs": [
        {
          "output_type": "execute_result",
          "data": {
            "text/plain": [
              "array(['Besni', 'Kecimen', 'Kecimen', 'Besni', 'Besni', 'Kecimen',\n",
              "       'Kecimen', 'Kecimen', 'Kecimen', 'Besni', 'Kecimen', 'Kecimen',\n",
              "       'Besni', 'Kecimen', 'Kecimen', 'Besni', 'Kecimen', 'Kecimen',\n",
              "       'Kecimen', 'Kecimen', 'Besni', 'Kecimen', 'Besni', 'Besni',\n",
              "       'Kecimen', 'Kecimen', 'Kecimen', 'Kecimen', 'Kecimen', 'Besni',\n",
              "       'Besni', 'Kecimen', 'Kecimen', 'Besni', 'Besni', 'Besni', 'Besni',\n",
              "       'Besni', 'Besni', 'Besni', 'Kecimen', 'Kecimen', 'Besni',\n",
              "       'Kecimen', 'Kecimen', 'Besni', 'Kecimen', 'Besni', 'Kecimen',\n",
              "       'Besni', 'Kecimen', 'Kecimen', 'Besni', 'Besni', 'Kecimen',\n",
              "       'Kecimen', 'Besni', 'Besni', 'Kecimen', 'Besni', 'Kecimen',\n",
              "       'Kecimen', 'Kecimen', 'Kecimen', 'Besni', 'Besni', 'Kecimen',\n",
              "       'Kecimen', 'Besni', 'Kecimen'], dtype=object)"
            ]
          },
          "metadata": {},
          "execution_count": 103
        }
      ]
    },
    {
      "cell_type": "code",
      "source": [
        "# Calculate accuracy\n",
        "from sklearn.metrics import accuracy_score\n",
        "accuracy_score(y_prediction, y_test)"
      ],
      "metadata": {
        "colab": {
          "base_uri": "https://localhost:8080/"
        },
        "id": "HC4MSK75AkmD",
        "outputId": "6cdaf5ea-19c9-4f84-d929-792444be7257"
      },
      "execution_count": 104,
      "outputs": [
        {
          "output_type": "execute_result",
          "data": {
            "text/plain": [
              "0.9"
            ]
          },
          "metadata": {},
          "execution_count": 104
        }
      ]
    },
    {
      "cell_type": "code",
      "source": [
        "comparedf = pd.DataFrame()\n",
        "\n",
        "comparedf['predicted'] = y_prediction\n",
        "comparedf['actual'] = np.array(y_test)\n",
        "\n",
        "comparedf.head(40)"
      ],
      "metadata": {
        "colab": {
          "base_uri": "https://localhost:8080/",
          "height": 1000
        },
        "id": "l_l3FzkqGAuf",
        "outputId": "560e3a10-33d8-4562-b920-103dcab47c40"
      },
      "execution_count": 120,
      "outputs": [
        {
          "output_type": "execute_result",
          "data": {
            "text/plain": [
              "    index predicted   actual\n",
              "0       0     Besni    Besni\n",
              "1       1   Kecimen  Kecimen\n",
              "2       2   Kecimen  Kecimen\n",
              "3       3     Besni    Besni\n",
              "4       4     Besni    Besni\n",
              "5       5   Kecimen    Besni\n",
              "6       6   Kecimen  Kecimen\n",
              "7       7   Kecimen  Kecimen\n",
              "8       8   Kecimen  Kecimen\n",
              "9       9     Besni    Besni\n",
              "10     10   Kecimen  Kecimen\n",
              "11     11   Kecimen  Kecimen\n",
              "12     12     Besni    Besni\n",
              "13     13   Kecimen  Kecimen\n",
              "14     14   Kecimen  Kecimen\n",
              "15     15     Besni    Besni\n",
              "16     16   Kecimen    Besni\n",
              "17     17   Kecimen    Besni\n",
              "18     18   Kecimen  Kecimen\n",
              "19     19   Kecimen  Kecimen\n",
              "20     20     Besni    Besni\n",
              "21     21   Kecimen  Kecimen\n",
              "22     22     Besni    Besni\n",
              "23     23     Besni    Besni\n",
              "24     24   Kecimen  Kecimen\n",
              "25     25   Kecimen  Kecimen\n",
              "26     26   Kecimen  Kecimen\n",
              "27     27   Kecimen  Kecimen\n",
              "28     28   Kecimen  Kecimen\n",
              "29     29     Besni    Besni\n",
              "30     30     Besni    Besni\n",
              "31     31   Kecimen  Kecimen\n",
              "32     32   Kecimen  Kecimen\n",
              "33     33     Besni    Besni\n",
              "34     34     Besni  Kecimen\n",
              "35     35     Besni    Besni\n",
              "36     36     Besni    Besni\n",
              "37     37     Besni    Besni\n",
              "38     38     Besni    Besni\n",
              "39     39     Besni    Besni"
            ],
            "text/html": [
              "\n",
              "  <div id=\"df-1e76bf68-177c-4c70-883c-de1fd303952a\">\n",
              "    <div class=\"colab-df-container\">\n",
              "      <div>\n",
              "<style scoped>\n",
              "    .dataframe tbody tr th:only-of-type {\n",
              "        vertical-align: middle;\n",
              "    }\n",
              "\n",
              "    .dataframe tbody tr th {\n",
              "        vertical-align: top;\n",
              "    }\n",
              "\n",
              "    .dataframe thead th {\n",
              "        text-align: right;\n",
              "    }\n",
              "</style>\n",
              "<table border=\"1\" class=\"dataframe\">\n",
              "  <thead>\n",
              "    <tr style=\"text-align: right;\">\n",
              "      <th></th>\n",
              "      <th>index</th>\n",
              "      <th>predicted</th>\n",
              "      <th>actual</th>\n",
              "    </tr>\n",
              "  </thead>\n",
              "  <tbody>\n",
              "    <tr>\n",
              "      <th>0</th>\n",
              "      <td>0</td>\n",
              "      <td>Besni</td>\n",
              "      <td>Besni</td>\n",
              "    </tr>\n",
              "    <tr>\n",
              "      <th>1</th>\n",
              "      <td>1</td>\n",
              "      <td>Kecimen</td>\n",
              "      <td>Kecimen</td>\n",
              "    </tr>\n",
              "    <tr>\n",
              "      <th>2</th>\n",
              "      <td>2</td>\n",
              "      <td>Kecimen</td>\n",
              "      <td>Kecimen</td>\n",
              "    </tr>\n",
              "    <tr>\n",
              "      <th>3</th>\n",
              "      <td>3</td>\n",
              "      <td>Besni</td>\n",
              "      <td>Besni</td>\n",
              "    </tr>\n",
              "    <tr>\n",
              "      <th>4</th>\n",
              "      <td>4</td>\n",
              "      <td>Besni</td>\n",
              "      <td>Besni</td>\n",
              "    </tr>\n",
              "    <tr>\n",
              "      <th>5</th>\n",
              "      <td>5</td>\n",
              "      <td>Kecimen</td>\n",
              "      <td>Besni</td>\n",
              "    </tr>\n",
              "    <tr>\n",
              "      <th>6</th>\n",
              "      <td>6</td>\n",
              "      <td>Kecimen</td>\n",
              "      <td>Kecimen</td>\n",
              "    </tr>\n",
              "    <tr>\n",
              "      <th>7</th>\n",
              "      <td>7</td>\n",
              "      <td>Kecimen</td>\n",
              "      <td>Kecimen</td>\n",
              "    </tr>\n",
              "    <tr>\n",
              "      <th>8</th>\n",
              "      <td>8</td>\n",
              "      <td>Kecimen</td>\n",
              "      <td>Kecimen</td>\n",
              "    </tr>\n",
              "    <tr>\n",
              "      <th>9</th>\n",
              "      <td>9</td>\n",
              "      <td>Besni</td>\n",
              "      <td>Besni</td>\n",
              "    </tr>\n",
              "    <tr>\n",
              "      <th>10</th>\n",
              "      <td>10</td>\n",
              "      <td>Kecimen</td>\n",
              "      <td>Kecimen</td>\n",
              "    </tr>\n",
              "    <tr>\n",
              "      <th>11</th>\n",
              "      <td>11</td>\n",
              "      <td>Kecimen</td>\n",
              "      <td>Kecimen</td>\n",
              "    </tr>\n",
              "    <tr>\n",
              "      <th>12</th>\n",
              "      <td>12</td>\n",
              "      <td>Besni</td>\n",
              "      <td>Besni</td>\n",
              "    </tr>\n",
              "    <tr>\n",
              "      <th>13</th>\n",
              "      <td>13</td>\n",
              "      <td>Kecimen</td>\n",
              "      <td>Kecimen</td>\n",
              "    </tr>\n",
              "    <tr>\n",
              "      <th>14</th>\n",
              "      <td>14</td>\n",
              "      <td>Kecimen</td>\n",
              "      <td>Kecimen</td>\n",
              "    </tr>\n",
              "    <tr>\n",
              "      <th>15</th>\n",
              "      <td>15</td>\n",
              "      <td>Besni</td>\n",
              "      <td>Besni</td>\n",
              "    </tr>\n",
              "    <tr>\n",
              "      <th>16</th>\n",
              "      <td>16</td>\n",
              "      <td>Kecimen</td>\n",
              "      <td>Besni</td>\n",
              "    </tr>\n",
              "    <tr>\n",
              "      <th>17</th>\n",
              "      <td>17</td>\n",
              "      <td>Kecimen</td>\n",
              "      <td>Besni</td>\n",
              "    </tr>\n",
              "    <tr>\n",
              "      <th>18</th>\n",
              "      <td>18</td>\n",
              "      <td>Kecimen</td>\n",
              "      <td>Kecimen</td>\n",
              "    </tr>\n",
              "    <tr>\n",
              "      <th>19</th>\n",
              "      <td>19</td>\n",
              "      <td>Kecimen</td>\n",
              "      <td>Kecimen</td>\n",
              "    </tr>\n",
              "    <tr>\n",
              "      <th>20</th>\n",
              "      <td>20</td>\n",
              "      <td>Besni</td>\n",
              "      <td>Besni</td>\n",
              "    </tr>\n",
              "    <tr>\n",
              "      <th>21</th>\n",
              "      <td>21</td>\n",
              "      <td>Kecimen</td>\n",
              "      <td>Kecimen</td>\n",
              "    </tr>\n",
              "    <tr>\n",
              "      <th>22</th>\n",
              "      <td>22</td>\n",
              "      <td>Besni</td>\n",
              "      <td>Besni</td>\n",
              "    </tr>\n",
              "    <tr>\n",
              "      <th>23</th>\n",
              "      <td>23</td>\n",
              "      <td>Besni</td>\n",
              "      <td>Besni</td>\n",
              "    </tr>\n",
              "    <tr>\n",
              "      <th>24</th>\n",
              "      <td>24</td>\n",
              "      <td>Kecimen</td>\n",
              "      <td>Kecimen</td>\n",
              "    </tr>\n",
              "    <tr>\n",
              "      <th>25</th>\n",
              "      <td>25</td>\n",
              "      <td>Kecimen</td>\n",
              "      <td>Kecimen</td>\n",
              "    </tr>\n",
              "    <tr>\n",
              "      <th>26</th>\n",
              "      <td>26</td>\n",
              "      <td>Kecimen</td>\n",
              "      <td>Kecimen</td>\n",
              "    </tr>\n",
              "    <tr>\n",
              "      <th>27</th>\n",
              "      <td>27</td>\n",
              "      <td>Kecimen</td>\n",
              "      <td>Kecimen</td>\n",
              "    </tr>\n",
              "    <tr>\n",
              "      <th>28</th>\n",
              "      <td>28</td>\n",
              "      <td>Kecimen</td>\n",
              "      <td>Kecimen</td>\n",
              "    </tr>\n",
              "    <tr>\n",
              "      <th>29</th>\n",
              "      <td>29</td>\n",
              "      <td>Besni</td>\n",
              "      <td>Besni</td>\n",
              "    </tr>\n",
              "    <tr>\n",
              "      <th>30</th>\n",
              "      <td>30</td>\n",
              "      <td>Besni</td>\n",
              "      <td>Besni</td>\n",
              "    </tr>\n",
              "    <tr>\n",
              "      <th>31</th>\n",
              "      <td>31</td>\n",
              "      <td>Kecimen</td>\n",
              "      <td>Kecimen</td>\n",
              "    </tr>\n",
              "    <tr>\n",
              "      <th>32</th>\n",
              "      <td>32</td>\n",
              "      <td>Kecimen</td>\n",
              "      <td>Kecimen</td>\n",
              "    </tr>\n",
              "    <tr>\n",
              "      <th>33</th>\n",
              "      <td>33</td>\n",
              "      <td>Besni</td>\n",
              "      <td>Besni</td>\n",
              "    </tr>\n",
              "    <tr>\n",
              "      <th>34</th>\n",
              "      <td>34</td>\n",
              "      <td>Besni</td>\n",
              "      <td>Kecimen</td>\n",
              "    </tr>\n",
              "    <tr>\n",
              "      <th>35</th>\n",
              "      <td>35</td>\n",
              "      <td>Besni</td>\n",
              "      <td>Besni</td>\n",
              "    </tr>\n",
              "    <tr>\n",
              "      <th>36</th>\n",
              "      <td>36</td>\n",
              "      <td>Besni</td>\n",
              "      <td>Besni</td>\n",
              "    </tr>\n",
              "    <tr>\n",
              "      <th>37</th>\n",
              "      <td>37</td>\n",
              "      <td>Besni</td>\n",
              "      <td>Besni</td>\n",
              "    </tr>\n",
              "    <tr>\n",
              "      <th>38</th>\n",
              "      <td>38</td>\n",
              "      <td>Besni</td>\n",
              "      <td>Besni</td>\n",
              "    </tr>\n",
              "    <tr>\n",
              "      <th>39</th>\n",
              "      <td>39</td>\n",
              "      <td>Besni</td>\n",
              "      <td>Besni</td>\n",
              "    </tr>\n",
              "  </tbody>\n",
              "</table>\n",
              "</div>\n",
              "      <button class=\"colab-df-convert\" onclick=\"convertToInteractive('df-1e76bf68-177c-4c70-883c-de1fd303952a')\"\n",
              "              title=\"Convert this dataframe to an interactive table.\"\n",
              "              style=\"display:none;\">\n",
              "        \n",
              "  <svg xmlns=\"http://www.w3.org/2000/svg\" height=\"24px\"viewBox=\"0 0 24 24\"\n",
              "       width=\"24px\">\n",
              "    <path d=\"M0 0h24v24H0V0z\" fill=\"none\"/>\n",
              "    <path d=\"M18.56 5.44l.94 2.06.94-2.06 2.06-.94-2.06-.94-.94-2.06-.94 2.06-2.06.94zm-11 1L8.5 8.5l.94-2.06 2.06-.94-2.06-.94L8.5 2.5l-.94 2.06-2.06.94zm10 10l.94 2.06.94-2.06 2.06-.94-2.06-.94-.94-2.06-.94 2.06-2.06.94z\"/><path d=\"M17.41 7.96l-1.37-1.37c-.4-.4-.92-.59-1.43-.59-.52 0-1.04.2-1.43.59L10.3 9.45l-7.72 7.72c-.78.78-.78 2.05 0 2.83L4 21.41c.39.39.9.59 1.41.59.51 0 1.02-.2 1.41-.59l7.78-7.78 2.81-2.81c.8-.78.8-2.07 0-2.86zM5.41 20L4 18.59l7.72-7.72 1.47 1.35L5.41 20z\"/>\n",
              "  </svg>\n",
              "      </button>\n",
              "      \n",
              "  <style>\n",
              "    .colab-df-container {\n",
              "      display:flex;\n",
              "      flex-wrap:wrap;\n",
              "      gap: 12px;\n",
              "    }\n",
              "\n",
              "    .colab-df-convert {\n",
              "      background-color: #E8F0FE;\n",
              "      border: none;\n",
              "      border-radius: 50%;\n",
              "      cursor: pointer;\n",
              "      display: none;\n",
              "      fill: #1967D2;\n",
              "      height: 32px;\n",
              "      padding: 0 0 0 0;\n",
              "      width: 32px;\n",
              "    }\n",
              "\n",
              "    .colab-df-convert:hover {\n",
              "      background-color: #E2EBFA;\n",
              "      box-shadow: 0px 1px 2px rgba(60, 64, 67, 0.3), 0px 1px 3px 1px rgba(60, 64, 67, 0.15);\n",
              "      fill: #174EA6;\n",
              "    }\n",
              "\n",
              "    [theme=dark] .colab-df-convert {\n",
              "      background-color: #3B4455;\n",
              "      fill: #D2E3FC;\n",
              "    }\n",
              "\n",
              "    [theme=dark] .colab-df-convert:hover {\n",
              "      background-color: #434B5C;\n",
              "      box-shadow: 0px 1px 3px 1px rgba(0, 0, 0, 0.15);\n",
              "      filter: drop-shadow(0px 1px 2px rgba(0, 0, 0, 0.3));\n",
              "      fill: #FFFFFF;\n",
              "    }\n",
              "  </style>\n",
              "\n",
              "      <script>\n",
              "        const buttonEl =\n",
              "          document.querySelector('#df-1e76bf68-177c-4c70-883c-de1fd303952a button.colab-df-convert');\n",
              "        buttonEl.style.display =\n",
              "          google.colab.kernel.accessAllowed ? 'block' : 'none';\n",
              "\n",
              "        async function convertToInteractive(key) {\n",
              "          const element = document.querySelector('#df-1e76bf68-177c-4c70-883c-de1fd303952a');\n",
              "          const dataTable =\n",
              "            await google.colab.kernel.invokeFunction('convertToInteractive',\n",
              "                                                     [key], {});\n",
              "          if (!dataTable) return;\n",
              "\n",
              "          const docLinkHtml = 'Like what you see? Visit the ' +\n",
              "            '<a target=\"_blank\" href=https://colab.research.google.com/notebooks/data_table.ipynb>data table notebook</a>'\n",
              "            + ' to learn more about interactive tables.';\n",
              "          element.innerHTML = '';\n",
              "          dataTable['output_type'] = 'display_data';\n",
              "          await google.colab.output.renderOutput(dataTable, element);\n",
              "          const docLink = document.createElement('div');\n",
              "          docLink.innerHTML = docLinkHtml;\n",
              "          element.appendChild(docLink);\n",
              "        }\n",
              "      </script>\n",
              "    </div>\n",
              "  </div>\n",
              "  "
            ]
          },
          "metadata": {},
          "execution_count": 120
        }
      ]
    },
    {
      "cell_type": "code",
      "source": [
        "# Get Holdout set\n",
        "rasin_holdout = pd.read_csv(\"raisin-holdout.csv\")"
      ],
      "metadata": {
        "id": "7EEQ9jCTIbpe"
      },
      "execution_count": 133,
      "outputs": []
    },
    {
      "cell_type": "code",
      "source": [
        "# Pre Processing (Normalization)\n",
        "\n",
        "norm = MinMaxScaler().fit(rasin_holdout)\n",
        "\n",
        "rasin_holdout = norm.transform(rasin_holdout)\n",
        "\n"
      ],
      "metadata": {
        "id": "HKVEza4TIxbx"
      },
      "execution_count": 136,
      "outputs": []
    },
    {
      "cell_type": "code",
      "source": [
        "# Get predictions\n",
        "\n",
        "holdout_predictions = model.predict(rasin_holdout)\n",
        "\n",
        "holdout_predictions\n",
        "\n",
        "final_holdout = pd.DataFrame()\n",
        "\n",
        "final_holdout['Class'] = holdout_predictions\n",
        "final_holdout\n"
      ],
      "metadata": {
        "colab": {
          "base_uri": "https://localhost:8080/",
          "height": 424
        },
        "id": "TP2zuCIDJVuW",
        "outputId": "be6c140f-687e-4fee-ef10-eb4a2aa1919c"
      },
      "execution_count": 145,
      "outputs": [
        {
          "output_type": "execute_result",
          "data": {
            "text/plain": [
              "     Class\n",
              "0    Besni\n",
              "1    Besni\n",
              "2    Besni\n",
              "3    Besni\n",
              "4    Besni\n",
              "..     ...\n",
              "197  Besni\n",
              "198  Besni\n",
              "199  Besni\n",
              "200  Besni\n",
              "201  Besni\n",
              "\n",
              "[202 rows x 1 columns]"
            ],
            "text/html": [
              "\n",
              "  <div id=\"df-0a06890f-1dd1-43fb-a4de-a37dfd056bc9\">\n",
              "    <div class=\"colab-df-container\">\n",
              "      <div>\n",
              "<style scoped>\n",
              "    .dataframe tbody tr th:only-of-type {\n",
              "        vertical-align: middle;\n",
              "    }\n",
              "\n",
              "    .dataframe tbody tr th {\n",
              "        vertical-align: top;\n",
              "    }\n",
              "\n",
              "    .dataframe thead th {\n",
              "        text-align: right;\n",
              "    }\n",
              "</style>\n",
              "<table border=\"1\" class=\"dataframe\">\n",
              "  <thead>\n",
              "    <tr style=\"text-align: right;\">\n",
              "      <th></th>\n",
              "      <th>Class</th>\n",
              "    </tr>\n",
              "  </thead>\n",
              "  <tbody>\n",
              "    <tr>\n",
              "      <th>0</th>\n",
              "      <td>Besni</td>\n",
              "    </tr>\n",
              "    <tr>\n",
              "      <th>1</th>\n",
              "      <td>Besni</td>\n",
              "    </tr>\n",
              "    <tr>\n",
              "      <th>2</th>\n",
              "      <td>Besni</td>\n",
              "    </tr>\n",
              "    <tr>\n",
              "      <th>3</th>\n",
              "      <td>Besni</td>\n",
              "    </tr>\n",
              "    <tr>\n",
              "      <th>4</th>\n",
              "      <td>Besni</td>\n",
              "    </tr>\n",
              "    <tr>\n",
              "      <th>...</th>\n",
              "      <td>...</td>\n",
              "    </tr>\n",
              "    <tr>\n",
              "      <th>197</th>\n",
              "      <td>Besni</td>\n",
              "    </tr>\n",
              "    <tr>\n",
              "      <th>198</th>\n",
              "      <td>Besni</td>\n",
              "    </tr>\n",
              "    <tr>\n",
              "      <th>199</th>\n",
              "      <td>Besni</td>\n",
              "    </tr>\n",
              "    <tr>\n",
              "      <th>200</th>\n",
              "      <td>Besni</td>\n",
              "    </tr>\n",
              "    <tr>\n",
              "      <th>201</th>\n",
              "      <td>Besni</td>\n",
              "    </tr>\n",
              "  </tbody>\n",
              "</table>\n",
              "<p>202 rows × 1 columns</p>\n",
              "</div>\n",
              "      <button class=\"colab-df-convert\" onclick=\"convertToInteractive('df-0a06890f-1dd1-43fb-a4de-a37dfd056bc9')\"\n",
              "              title=\"Convert this dataframe to an interactive table.\"\n",
              "              style=\"display:none;\">\n",
              "        \n",
              "  <svg xmlns=\"http://www.w3.org/2000/svg\" height=\"24px\"viewBox=\"0 0 24 24\"\n",
              "       width=\"24px\">\n",
              "    <path d=\"M0 0h24v24H0V0z\" fill=\"none\"/>\n",
              "    <path d=\"M18.56 5.44l.94 2.06.94-2.06 2.06-.94-2.06-.94-.94-2.06-.94 2.06-2.06.94zm-11 1L8.5 8.5l.94-2.06 2.06-.94-2.06-.94L8.5 2.5l-.94 2.06-2.06.94zm10 10l.94 2.06.94-2.06 2.06-.94-2.06-.94-.94-2.06-.94 2.06-2.06.94z\"/><path d=\"M17.41 7.96l-1.37-1.37c-.4-.4-.92-.59-1.43-.59-.52 0-1.04.2-1.43.59L10.3 9.45l-7.72 7.72c-.78.78-.78 2.05 0 2.83L4 21.41c.39.39.9.59 1.41.59.51 0 1.02-.2 1.41-.59l7.78-7.78 2.81-2.81c.8-.78.8-2.07 0-2.86zM5.41 20L4 18.59l7.72-7.72 1.47 1.35L5.41 20z\"/>\n",
              "  </svg>\n",
              "      </button>\n",
              "      \n",
              "  <style>\n",
              "    .colab-df-container {\n",
              "      display:flex;\n",
              "      flex-wrap:wrap;\n",
              "      gap: 12px;\n",
              "    }\n",
              "\n",
              "    .colab-df-convert {\n",
              "      background-color: #E8F0FE;\n",
              "      border: none;\n",
              "      border-radius: 50%;\n",
              "      cursor: pointer;\n",
              "      display: none;\n",
              "      fill: #1967D2;\n",
              "      height: 32px;\n",
              "      padding: 0 0 0 0;\n",
              "      width: 32px;\n",
              "    }\n",
              "\n",
              "    .colab-df-convert:hover {\n",
              "      background-color: #E2EBFA;\n",
              "      box-shadow: 0px 1px 2px rgba(60, 64, 67, 0.3), 0px 1px 3px 1px rgba(60, 64, 67, 0.15);\n",
              "      fill: #174EA6;\n",
              "    }\n",
              "\n",
              "    [theme=dark] .colab-df-convert {\n",
              "      background-color: #3B4455;\n",
              "      fill: #D2E3FC;\n",
              "    }\n",
              "\n",
              "    [theme=dark] .colab-df-convert:hover {\n",
              "      background-color: #434B5C;\n",
              "      box-shadow: 0px 1px 3px 1px rgba(0, 0, 0, 0.15);\n",
              "      filter: drop-shadow(0px 1px 2px rgba(0, 0, 0, 0.3));\n",
              "      fill: #FFFFFF;\n",
              "    }\n",
              "  </style>\n",
              "\n",
              "      <script>\n",
              "        const buttonEl =\n",
              "          document.querySelector('#df-0a06890f-1dd1-43fb-a4de-a37dfd056bc9 button.colab-df-convert');\n",
              "        buttonEl.style.display =\n",
              "          google.colab.kernel.accessAllowed ? 'block' : 'none';\n",
              "\n",
              "        async function convertToInteractive(key) {\n",
              "          const element = document.querySelector('#df-0a06890f-1dd1-43fb-a4de-a37dfd056bc9');\n",
              "          const dataTable =\n",
              "            await google.colab.kernel.invokeFunction('convertToInteractive',\n",
              "                                                     [key], {});\n",
              "          if (!dataTable) return;\n",
              "\n",
              "          const docLinkHtml = 'Like what you see? Visit the ' +\n",
              "            '<a target=\"_blank\" href=https://colab.research.google.com/notebooks/data_table.ipynb>data table notebook</a>'\n",
              "            + ' to learn more about interactive tables.';\n",
              "          element.innerHTML = '';\n",
              "          dataTable['output_type'] = 'display_data';\n",
              "          await google.colab.output.renderOutput(dataTable, element);\n",
              "          const docLink = document.createElement('div');\n",
              "          docLink.innerHTML = docLinkHtml;\n",
              "          element.appendChild(docLink);\n",
              "        }\n",
              "      </script>\n",
              "    </div>\n",
              "  </div>\n",
              "  "
            ]
          },
          "metadata": {},
          "execution_count": 145
        }
      ]
    },
    {
      "cell_type": "code",
      "source": [
        "from pathlib import Path  \n",
        "filepath = Path('Main/final-holdout-predictions.csv')  \n",
        "filepath.parent.mkdir(parents=True, exist_ok=True)  \n",
        "final_holdout.to_csv(filepath)"
      ],
      "metadata": {
        "id": "kB10TrAUKH9U"
      },
      "execution_count": 146,
      "outputs": []
    }
  ]
}